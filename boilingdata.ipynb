{
 "cells": [
  {
   "cell_type": "code",
   "execution_count": null,
   "id": "23677c2e-037c-4233-805e-c290b8c439d9",
   "metadata": {
    "scrolled": true
   },
   "outputs": [],
   "source": [
    "pip install git+https://github.com/boilingdata/py-boilingdata@v0.2.7"
   ]
  },
  {
   "cell_type": "code",
   "execution_count": null,
   "id": "31535979-b6d7-4aa6-82a0-48e2936e7700",
   "metadata": {},
   "outputs": [],
   "source": [
    "%env BD_USERNAME=****"
   ]
  },
  {
   "cell_type": "code",
   "execution_count": null,
   "id": "03854eae-ef9f-4925-b6c2-45b56e8034ec",
   "metadata": {},
   "outputs": [],
   "source": [
    "%env BD_PASSWORD=****"
   ]
  },
  {
   "cell_type": "code",
   "execution_count": null,
   "id": "a849f659-1892-4e49-b7d4-b8b315750e13",
   "metadata": {},
   "outputs": [],
   "source": [
    "import pandas as pd\n",
    "from py_boilingdata import BoilingData\n",
    "\n",
    "boiling = BoilingData()\n",
    "await boiling.connect()\n",
    "\n",
    "async def bd(sql):\n",
    "    return await boiling.execute(sql)"
   ]
  },
  {
   "cell_type": "code",
   "execution_count": null,
   "id": "74792890-15e8-486a-b507-1603bd5a5c15",
   "metadata": {},
   "outputs": [],
   "source": [
    "await boiling.execute('SHOW TABLES')"
   ]
  },
  {
   "cell_type": "code",
   "execution_count": null,
   "id": "70bc3afc-d4a6-4eb3-8fb9-387d3a8ab40d",
   "metadata": {},
   "outputs": [],
   "source": [
    "df = pd.DataFrame(await boiling.execute(\"SELECT first_name, email FROM parquet_scan('s3://boilingdata-demo/test.parquet') LIMIT 10\"))\n",
    "print(df)"
   ]
  },
  {
   "cell_type": "code",
   "execution_count": null,
   "id": "715e0451-4a18-4415-a0cb-73d68d248843",
   "metadata": {},
   "outputs": [],
   "source": [
    "pd.DataFrame(await boiling.execute(\"SELECT * FROM parquet_scan('s3://boilingdata-demo/test.parquet') LIMIT 12\"))"
   ]
  },
  {
   "cell_type": "code",
   "execution_count": null,
   "id": "094c7269-bff4-4027-82d6-4075d2417822",
   "metadata": {},
   "outputs": [],
   "source": [
    "await boiling.close()"
   ]
  },
  {
   "cell_type": "code",
   "execution_count": null,
   "id": "ded452c1-2b01-489a-b5ee-e4148dfe7e38",
   "metadata": {},
   "outputs": [],
   "source": []
  }
 ],
 "metadata": {
  "kernelspec": {
   "display_name": "Python 3 (ipykernel)",
   "language": "python",
   "name": "python3"
  },
  "language_info": {
   "codemirror_mode": {
    "name": "ipython",
    "version": 3
   },
   "file_extension": ".py",
   "mimetype": "text/x-python",
   "name": "python",
   "nbconvert_exporter": "python",
   "pygments_lexer": "ipython3",
   "version": "3.9.18"
  }
 },
 "nbformat": 4,
 "nbformat_minor": 5
}
