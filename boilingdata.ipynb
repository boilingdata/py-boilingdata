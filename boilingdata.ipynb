{
 "cells": [
  {
   "cell_type": "code",
   "execution_count": 3,
   "id": "23677c2e-037c-4233-805e-c290b8c439d9",
   "metadata": {
    "scrolled": true
   },
   "outputs": [
    {
     "name": "stdout",
     "output_type": "stream",
     "text": [
      "Defaulting to user installation because normal site-packages is not writeable\n",
      "Collecting git+https://github.com/boilingdata/py-boilingdata@v0.2.8\n",
      "  Cloning https://github.com/boilingdata/py-boilingdata (to revision v0.2.8) to /private/var/folders/vy/p7dz__m15lb1pbm6xk1b9gxw0000gn/T/pip-req-build-0vj36aff\n",
      "  Running command git clone --filter=blob:none --quiet https://github.com/boilingdata/py-boilingdata /private/var/folders/vy/p7dz__m15lb1pbm6xk1b9gxw0000gn/T/pip-req-build-0vj36aff\n",
      "  Running command git checkout -q 441de5147572b5cd5374b02f78066f922d0d91d7\n",
      "  Resolved https://github.com/boilingdata/py-boilingdata to commit 441de5147572b5cd5374b02f78066f922d0d91d7\n",
      "  Installing build dependencies ... \u001b[?25ldone\n",
      "\u001b[?25h  Getting requirements to build wheel ... \u001b[?25ldone\n",
      "\u001b[?25h  Preparing metadata (pyproject.toml) ... \u001b[?25ldone\n",
      "\u001b[?25hRequirement already satisfied: pandas in /Users/dforsber/Library/Python/3.9/lib/python/site-packages (2.1.3)\n",
      "Requirement already satisfied: numpy in /Users/dforsber/Library/Python/3.9/lib/python/site-packages (1.26.2)\n",
      "Requirement already satisfied: asyncio<4.0.0,>=3.4.3 in /Users/dforsber/Library/Python/3.9/lib/python/site-packages (from py-boilingdata==0.2.8) (3.4.3)\n",
      "Requirement already satisfied: boto3<2.0.0,>=1.29.1 in /Users/dforsber/Library/Python/3.9/lib/python/site-packages (from py-boilingdata==0.2.8) (1.29.1)\n",
      "Requirement already satisfied: botocore<2.0.0,>=1.32.1 in /Users/dforsber/Library/Python/3.9/lib/python/site-packages (from py-boilingdata==0.2.8) (1.32.1)\n",
      "Requirement already satisfied: duckdb<0.10.0,>=0.9.2 in /Users/dforsber/Library/Python/3.9/lib/python/site-packages (from py-boilingdata==0.2.8) (0.9.2)\n",
      "Requirement already satisfied: pytest-snapshot<0.10.0,>=0.9.0 in /Users/dforsber/Library/Python/3.9/lib/python/site-packages (from py-boilingdata==0.2.8) (0.9.0)\n",
      "Requirement already satisfied: python-dotenv<2.0.0,>=1.0.0 in /Users/dforsber/Library/Python/3.9/lib/python/site-packages (from py-boilingdata==0.2.8) (1.0.0)\n",
      "Requirement already satisfied: rel<0.5.0,>=0.4.9 in /Users/dforsber/Library/Python/3.9/lib/python/site-packages (from py-boilingdata==0.2.8) (0.4.9)\n",
      "Requirement already satisfied: uuid<2.0,>=1.30 in /Users/dforsber/Library/Python/3.9/lib/python/site-packages (from py-boilingdata==0.2.8) (1.30)\n",
      "Requirement already satisfied: websocket-client<2.0.0,>=1.6.4 in /Users/dforsber/Library/Python/3.9/lib/python/site-packages (from py-boilingdata==0.2.8) (1.6.4)\n",
      "Requirement already satisfied: python-dateutil>=2.8.2 in /Users/dforsber/Library/Python/3.9/lib/python/site-packages (from pandas) (2.8.2)\n",
      "Requirement already satisfied: pytz>=2020.1 in /Users/dforsber/Library/Python/3.9/lib/python/site-packages (from pandas) (2023.3.post1)\n",
      "Requirement already satisfied: tzdata>=2022.1 in /Users/dforsber/Library/Python/3.9/lib/python/site-packages (from pandas) (2023.3)\n",
      "Requirement already satisfied: jmespath<2.0.0,>=0.7.1 in /opt/local/Library/Frameworks/Python.framework/Versions/3.9/lib/python3.9/site-packages (from boto3<2.0.0,>=1.29.1->py-boilingdata==0.2.8) (1.0.1)\n",
      "Requirement already satisfied: s3transfer<0.8.0,>=0.7.0 in /Users/dforsber/Library/Python/3.9/lib/python/site-packages (from boto3<2.0.0,>=1.29.1->py-boilingdata==0.2.8) (0.7.0)\n",
      "Requirement already satisfied: urllib3<1.27,>=1.25.4 in /opt/local/Library/Frameworks/Python.framework/Versions/3.9/lib/python3.9/site-packages (from botocore<2.0.0,>=1.32.1->py-boilingdata==0.2.8) (1.26.18)\n",
      "Requirement already satisfied: pytest>=3.0.0 in /Users/dforsber/Library/Python/3.9/lib/python/site-packages (from pytest-snapshot<0.10.0,>=0.9.0->py-boilingdata==0.2.8) (7.4.3)\n",
      "Requirement already satisfied: six>=1.5 in /Users/dforsber/Library/Python/3.9/lib/python/site-packages (from python-dateutil>=2.8.2->pandas) (1.16.0)\n",
      "Requirement already satisfied: iniconfig in /Users/dforsber/Library/Python/3.9/lib/python/site-packages (from pytest>=3.0.0->pytest-snapshot<0.10.0,>=0.9.0->py-boilingdata==0.2.8) (2.0.0)\n",
      "Requirement already satisfied: packaging in /opt/local/Library/Frameworks/Python.framework/Versions/3.9/lib/python3.9/site-packages (from pytest>=3.0.0->pytest-snapshot<0.10.0,>=0.9.0->py-boilingdata==0.2.8) (23.2)\n",
      "Requirement already satisfied: pluggy<2.0,>=0.12 in /Users/dforsber/Library/Python/3.9/lib/python/site-packages (from pytest>=3.0.0->pytest-snapshot<0.10.0,>=0.9.0->py-boilingdata==0.2.8) (1.3.0)\n",
      "Requirement already satisfied: exceptiongroup>=1.0.0rc8 in /Users/dforsber/Library/Python/3.9/lib/python/site-packages (from pytest>=3.0.0->pytest-snapshot<0.10.0,>=0.9.0->py-boilingdata==0.2.8) (1.1.3)\n",
      "Requirement already satisfied: tomli>=1.0.0 in /opt/local/Library/Frameworks/Python.framework/Versions/3.9/lib/python3.9/site-packages (from pytest>=3.0.0->pytest-snapshot<0.10.0,>=0.9.0->py-boilingdata==0.2.8) (2.0.1)\n",
      "Note: you may need to restart the kernel to use updated packages.\n"
     ]
    }
   ],
   "source": [
    "pip install git+https://github.com/boilingdata/py-boilingdata@v0.2.9 pandas numpy"
   ]
  },
  {
   "cell_type": "code",
   "execution_count": 1,
   "id": "a849f659-1892-4e49-b7d4-b8b315750e13",
   "metadata": {},
   "outputs": [
    {
     "ename": "ValueError",
     "evalue": "Missing username (BD_USERNAME) and/or password (BD_PASSWORD) environment variable(s)",
     "output_type": "error",
     "traceback": [
      "\u001b[0;31m---------------------------------------------------------------------------\u001b[0m",
      "\u001b[0;31mValueError\u001b[0m                                Traceback (most recent call last)",
      "Cell \u001b[0;32mIn[1], line 7\u001b[0m\n\u001b[1;32m      3\u001b[0m \u001b[38;5;28;01mfrom\u001b[39;00m \u001b[38;5;21;01mpy_boilingdata\u001b[39;00m \u001b[38;5;28;01mimport\u001b[39;00m BoilingData\n\u001b[1;32m      5\u001b[0m load_dotenv()  \u001b[38;5;66;03m# take environment variables from .env\u001b[39;00m\n\u001b[0;32m----> 7\u001b[0m boiling \u001b[38;5;241m=\u001b[39m \u001b[43mBoilingData\u001b[49m\u001b[43m(\u001b[49m\u001b[43mlog_level\u001b[49m\u001b[38;5;241;43m=\u001b[39;49m\u001b[38;5;124;43m\"\u001b[39;49m\u001b[38;5;124;43mINFO\u001b[39;49m\u001b[38;5;124;43m\"\u001b[39;49m\u001b[43m)\u001b[49m\n\u001b[1;32m      8\u001b[0m \u001b[38;5;28;01mawait\u001b[39;00m boiling\u001b[38;5;241m.\u001b[39mconnect()\n\u001b[1;32m     10\u001b[0m \u001b[38;5;28;01masync\u001b[39;00m \u001b[38;5;28;01mdef\u001b[39;00m \u001b[38;5;21mbd\u001b[39m(sql):\n",
      "File \u001b[0;32m~/Desktop/Projektit/GitHub/py-boilingdata/py_boilingdata/__init__.py:46\u001b[0m, in \u001b[0;36mBoilingData.__init__\u001b[0;34m(self, log_level)\u001b[0m\n\u001b[1;32m     44\u001b[0m \u001b[38;5;28mself\u001b[39m\u001b[38;5;241m.\u001b[39mlogger \u001b[38;5;241m=\u001b[39m logging\u001b[38;5;241m.\u001b[39mgetLogger(\u001b[38;5;124m\"\u001b[39m\u001b[38;5;124mBoilingData\u001b[39m\u001b[38;5;124m\"\u001b[39m)\n\u001b[1;32m     45\u001b[0m \u001b[38;5;28mself\u001b[39m\u001b[38;5;241m.\u001b[39mlogger\u001b[38;5;241m.\u001b[39msetLevel(\u001b[38;5;28mself\u001b[39m\u001b[38;5;241m.\u001b[39mlog_level)\n\u001b[0;32m---> 46\u001b[0m \u001b[38;5;28mself\u001b[39m\u001b[38;5;241m.\u001b[39mbd_conn \u001b[38;5;241m=\u001b[39m \u001b[43mBoilingDataConnection\u001b[49m\u001b[43m(\u001b[49m\u001b[43mlog_level\u001b[49m\u001b[38;5;241;43m=\u001b[39;49m\u001b[38;5;28;43mself\u001b[39;49m\u001b[38;5;241;43m.\u001b[39;49m\u001b[43mlog_level\u001b[49m\u001b[43m)\u001b[49m\n\u001b[1;32m     47\u001b[0m \u001b[38;5;28mself\u001b[39m\u001b[38;5;241m.\u001b[39mconn \u001b[38;5;241m=\u001b[39m duckdb\u001b[38;5;241m.\u001b[39mconnect(\u001b[38;5;124m\"\u001b[39m\u001b[38;5;124m:memory:\u001b[39m\u001b[38;5;124m\"\u001b[39m)\n",
      "File \u001b[0;32m~/Desktop/Projektit/GitHub/py-boilingdata/py_boilingdata/__init__.py:127\u001b[0m, in \u001b[0;36mBoilingDataConnection.__init__\u001b[0;34m(self, region, log_level)\u001b[0m\n\u001b[1;32m    125\u001b[0m \u001b[38;5;28mself\u001b[39m\u001b[38;5;241m.\u001b[39mpassword \u001b[38;5;241m=\u001b[39m os\u001b[38;5;241m.\u001b[39mgetenv(\u001b[38;5;124m\"\u001b[39m\u001b[38;5;124mBD_PASSWORD\u001b[39m\u001b[38;5;124m\"\u001b[39m, \u001b[38;5;124m\"\u001b[39m\u001b[38;5;124m\"\u001b[39m)\n\u001b[1;32m    126\u001b[0m \u001b[38;5;28;01mif\u001b[39;00m \u001b[38;5;28mself\u001b[39m\u001b[38;5;241m.\u001b[39musername \u001b[38;5;241m==\u001b[39m \u001b[38;5;124m\"\u001b[39m\u001b[38;5;124m\"\u001b[39m \u001b[38;5;129;01mor\u001b[39;00m \u001b[38;5;28mself\u001b[39m\u001b[38;5;241m.\u001b[39mpassword \u001b[38;5;241m==\u001b[39m \u001b[38;5;124m\"\u001b[39m\u001b[38;5;124m\"\u001b[39m:\n\u001b[0;32m--> 127\u001b[0m     \u001b[38;5;28;01mraise\u001b[39;00m \u001b[38;5;167;01mValueError\u001b[39;00m(\n\u001b[1;32m    128\u001b[0m         \u001b[38;5;124m\"\u001b[39m\u001b[38;5;124mMissing username (BD_USERNAME) and/or \u001b[39m\u001b[38;5;124m\"\u001b[39m\n\u001b[1;32m    129\u001b[0m         \u001b[38;5;241m+\u001b[39m \u001b[38;5;124m\"\u001b[39m\u001b[38;5;124mpassword (BD_PASSWORD) environment variable(s)\u001b[39m\u001b[38;5;124m\"\u001b[39m\n\u001b[1;32m    130\u001b[0m     )\n\u001b[1;32m    131\u001b[0m \u001b[38;5;28mself\u001b[39m\u001b[38;5;241m.\u001b[39mwsConnectTimeoutS \u001b[38;5;241m=\u001b[39m \u001b[38;5;241m10\u001b[39m\n\u001b[1;32m    132\u001b[0m \u001b[38;5;28mself\u001b[39m\u001b[38;5;241m.\u001b[39mwebsocket \u001b[38;5;241m=\u001b[39m \u001b[38;5;28;01mNone\u001b[39;00m\n",
      "\u001b[0;31mValueError\u001b[0m: Missing username (BD_USERNAME) and/or password (BD_PASSWORD) environment variable(s)"
     ]
    }
   ],
   "source": [
    "import pandas as pd\n",
    "from dotenv import load_dotenv\n",
    "from py_boilingdata import BoilingData\n",
    "\n",
    "load_dotenv()  # take environment variables from .env\n",
    "\n",
    "boiling = BoilingData(log_level=\"INFO\")\n",
    "await boiling.connect()\n",
    "\n",
    "async def bd(sql):\n",
    "    resp = await boiling.execute(sql)\n",
    "    try:\n",
    "        return pd.DataFrame(resp)\n",
    "    except:\n",
    "        return resp"
   ]
  },
  {
   "cell_type": "markdown",
   "id": "394d22ad-61bf-41a1-aee9-719914572359",
   "metadata": {},
   "source": [
    "To get a list of Data Sets shared to you, you can call:"
   ]
  },
  {
   "cell_type": "code",
   "execution_count": 2,
   "id": "62c41e1d-cfaf-4a05-9407-23fe8d523da6",
   "metadata": {},
   "outputs": [
    {
     "name": "stdout",
     "output_type": "stream",
     "text": [
      "                shareName             fromEmail lifeTime     schedule\n",
      "0          taxi_locations  demo@boilingdata.com       1h  * * * * * *\n",
      "1  taxi_locations_limited    dforsber@gmail.com       1h  * * * * * *\n",
      "2          taxi_locations    dforsber@gmail.com       1h  * * * * * *\n",
      "3               demo_full    dforsber@gmail.com       1h  * * * * * *\n"
     ]
    }
   ],
   "source": [
    "resp = await bd(\"SELECT shareName, fromEmail, lifeTime, schedule FROM boilingshares LIMIT 100;\")\n",
    "print(resp)"
   ]
  },
  {
   "cell_type": "code",
   "execution_count": 3,
   "id": "6f294126-d81a-4e1c-bf6f-eec397759d1d",
   "metadata": {},
   "outputs": [
    {
     "data": {
      "text/html": [
       "<div>\n",
       "<style scoped>\n",
       "    .dataframe tbody tr th:only-of-type {\n",
       "        vertical-align: middle;\n",
       "    }\n",
       "\n",
       "    .dataframe tbody tr th {\n",
       "        vertical-align: top;\n",
       "    }\n",
       "\n",
       "    .dataframe thead th {\n",
       "        text-align: right;\n",
       "    }\n",
       "</style>\n",
       "<table border=\"1\" class=\"dataframe\">\n",
       "  <thead>\n",
       "    <tr style=\"text-align: right;\">\n",
       "      <th></th>\n",
       "      <th>LocationID</th>\n",
       "      <th>Borough</th>\n",
       "      <th>Zone</th>\n",
       "      <th>service_zone</th>\n",
       "    </tr>\n",
       "  </thead>\n",
       "  <tbody>\n",
       "    <tr>\n",
       "      <th>0</th>\n",
       "      <td>1</td>\n",
       "      <td>EWR</td>\n",
       "      <td>Newark Airport</td>\n",
       "      <td>EWR</td>\n",
       "    </tr>\n",
       "    <tr>\n",
       "      <th>1</th>\n",
       "      <td>2</td>\n",
       "      <td>Queens</td>\n",
       "      <td>Jamaica Bay</td>\n",
       "      <td>Boro Zone</td>\n",
       "    </tr>\n",
       "  </tbody>\n",
       "</table>\n",
       "</div>"
      ],
      "text/plain": [
       "   LocationID Borough            Zone service_zone\n",
       "0           1     EWR  Newark Airport          EWR\n",
       "1           2  Queens     Jamaica Bay    Boro Zone"
      ]
     },
     "execution_count": 3,
     "metadata": {},
     "output_type": "execute_result"
    }
   ],
   "source": [
    "await bd(\"SELECT * FROM share('dforsber@gmail.com:taxi_locations') LIMIT 2\")"
   ]
  },
  {
   "cell_type": "code",
   "execution_count": 5,
   "id": "715e0451-4a18-4415-a0cb-73d68d248843",
   "metadata": {},
   "outputs": [
    {
     "data": {
      "text/html": [
       "<div>\n",
       "<style scoped>\n",
       "    .dataframe tbody tr th:only-of-type {\n",
       "        vertical-align: middle;\n",
       "    }\n",
       "\n",
       "    .dataframe tbody tr th {\n",
       "        vertical-align: top;\n",
       "    }\n",
       "\n",
       "    .dataframe thead th {\n",
       "        text-align: right;\n",
       "    }\n",
       "</style>\n",
       "<table border=\"1\" class=\"dataframe\">\n",
       "  <thead>\n",
       "    <tr style=\"text-align: right;\">\n",
       "      <th></th>\n",
       "      <th>registration_dttm</th>\n",
       "      <th>id</th>\n",
       "      <th>first_name</th>\n",
       "      <th>last_name</th>\n",
       "      <th>email</th>\n",
       "      <th>gender</th>\n",
       "      <th>ip_address</th>\n",
       "      <th>cc</th>\n",
       "      <th>country</th>\n",
       "      <th>birthdate</th>\n",
       "      <th>salary</th>\n",
       "      <th>title</th>\n",
       "      <th>comments</th>\n",
       "    </tr>\n",
       "  </thead>\n",
       "  <tbody>\n",
       "    <tr>\n",
       "      <th>0</th>\n",
       "      <td>2016-02-03 07:55:29+00</td>\n",
       "      <td>1</td>\n",
       "      <td>Amanda</td>\n",
       "      <td>Jordan</td>\n",
       "      <td>ajordan0@com.com</td>\n",
       "      <td>Female</td>\n",
       "      <td>1.197.201.2</td>\n",
       "      <td>6759521864920116</td>\n",
       "      <td>Indonesia</td>\n",
       "      <td>3/8/1971</td>\n",
       "      <td>49756.53</td>\n",
       "      <td>Internal Auditor</td>\n",
       "      <td>1E+02</td>\n",
       "    </tr>\n",
       "    <tr>\n",
       "      <th>1</th>\n",
       "      <td>2016-02-03 17:04:03+00</td>\n",
       "      <td>2</td>\n",
       "      <td>Albert</td>\n",
       "      <td>Freeman</td>\n",
       "      <td>afreeman1@is.gd</td>\n",
       "      <td>Male</td>\n",
       "      <td>218.111.175.34</td>\n",
       "      <td></td>\n",
       "      <td>Canada</td>\n",
       "      <td>1/16/1968</td>\n",
       "      <td>150280.17</td>\n",
       "      <td>Accountant IV</td>\n",
       "      <td></td>\n",
       "    </tr>\n",
       "    <tr>\n",
       "      <th>2</th>\n",
       "      <td>2016-02-03 01:09:31+00</td>\n",
       "      <td>3</td>\n",
       "      <td>Evelyn</td>\n",
       "      <td>Morgan</td>\n",
       "      <td>emorgan2@altervista.org</td>\n",
       "      <td>Female</td>\n",
       "      <td>7.161.136.94</td>\n",
       "      <td>6767119071901597</td>\n",
       "      <td>Russia</td>\n",
       "      <td>2/1/1960</td>\n",
       "      <td>144972.51</td>\n",
       "      <td>Structural Engineer</td>\n",
       "      <td></td>\n",
       "    </tr>\n",
       "    <tr>\n",
       "      <th>3</th>\n",
       "      <td>2016-02-03 00:36:21+00</td>\n",
       "      <td>4</td>\n",
       "      <td>Denise</td>\n",
       "      <td>Riley</td>\n",
       "      <td>driley3@gmpg.org</td>\n",
       "      <td>Female</td>\n",
       "      <td>140.35.109.83</td>\n",
       "      <td>3576031598965625</td>\n",
       "      <td>China</td>\n",
       "      <td>4/8/1997</td>\n",
       "      <td>90263.05</td>\n",
       "      <td>Senior Cost Accountant</td>\n",
       "      <td></td>\n",
       "    </tr>\n",
       "    <tr>\n",
       "      <th>4</th>\n",
       "      <td>2016-02-03 05:05:31+00</td>\n",
       "      <td>5</td>\n",
       "      <td>Carlos</td>\n",
       "      <td>Burns</td>\n",
       "      <td>cburns4@miitbeian.gov.cn</td>\n",
       "      <td></td>\n",
       "      <td>169.113.235.40</td>\n",
       "      <td>5602256255204850</td>\n",
       "      <td>South Africa</td>\n",
       "      <td></td>\n",
       "      <td>NaN</td>\n",
       "      <td></td>\n",
       "      <td></td>\n",
       "    </tr>\n",
       "  </tbody>\n",
       "</table>\n",
       "</div>"
      ],
      "text/plain": [
       "        registration_dttm  id first_name last_name                     email  \\\n",
       "0  2016-02-03 07:55:29+00   1     Amanda    Jordan          ajordan0@com.com   \n",
       "1  2016-02-03 17:04:03+00   2     Albert   Freeman           afreeman1@is.gd   \n",
       "2  2016-02-03 01:09:31+00   3     Evelyn    Morgan   emorgan2@altervista.org   \n",
       "3  2016-02-03 00:36:21+00   4     Denise     Riley          driley3@gmpg.org   \n",
       "4  2016-02-03 05:05:31+00   5     Carlos     Burns  cburns4@miitbeian.gov.cn   \n",
       "\n",
       "   gender      ip_address                cc       country  birthdate  \\\n",
       "0  Female     1.197.201.2  6759521864920116     Indonesia   3/8/1971   \n",
       "1    Male  218.111.175.34                          Canada  1/16/1968   \n",
       "2  Female    7.161.136.94  6767119071901597        Russia   2/1/1960   \n",
       "3  Female   140.35.109.83  3576031598965625         China   4/8/1997   \n",
       "4          169.113.235.40  5602256255204850  South Africa              \n",
       "\n",
       "      salary                   title comments  \n",
       "0   49756.53        Internal Auditor    1E+02  \n",
       "1  150280.17           Accountant IV           \n",
       "2  144972.51     Structural Engineer           \n",
       "3   90263.05  Senior Cost Accountant           \n",
       "4        NaN                                   "
      ]
     },
     "execution_count": 5,
     "metadata": {},
     "output_type": "execute_result"
    }
   ],
   "source": [
    "await bd(\"SELECT * FROM parquet_scan('s3://boilingdata-demo/test.parquet') LIMIT 5\")"
   ]
  },
  {
   "cell_type": "code",
   "execution_count": null,
   "id": "094c7269-bff4-4027-82d6-4075d2417822",
   "metadata": {},
   "outputs": [],
   "source": [
    "await boiling.close()"
   ]
  }
 ],
 "metadata": {
  "kernelspec": {
   "display_name": "Python 3 (ipykernel)",
   "language": "python",
   "name": "python3"
  },
  "language_info": {
   "codemirror_mode": {
    "name": "ipython",
    "version": 3
   },
   "file_extension": ".py",
   "mimetype": "text/x-python",
   "name": "python",
   "nbconvert_exporter": "python",
   "pygments_lexer": "ipython3",
   "version": "3.9.18"
  }
 },
 "nbformat": 4,
 "nbformat_minor": 5
}
